{
 "cells": [
  {
   "cell_type": "code",
   "execution_count": 6,
   "id": "f4c3304e",
   "metadata": {},
   "outputs": [],
   "source": [
    "# ARMSTRONG"
   ]
  },
  {
   "cell_type": "code",
   "execution_count": 15,
   "id": "e41d4ab8",
   "metadata": {},
   "outputs": [
    {
     "name": "stdout",
     "output_type": "stream",
     "text": [
      "enter a number153\n",
      "no is armstrong\n"
     ]
    }
   ],
   "source": [
    "i=int(input(\"enter a number\"))\n",
    "x=i\n",
    "sum=0\n",
    "while(i>0):\n",
    "    sum=sum+(i%10)*(i%10)*(i%10)\n",
    "    i=i//10\n",
    "if x==sum:\n",
    "    print(\"no is armstrong\")\n",
    "else:\n",
    "    print(\"no is not armstrong\")"
   ]
  },
  {
   "cell_type": "code",
   "execution_count": 8,
   "id": "44454043",
   "metadata": {},
   "outputs": [],
   "source": [
    "#PRIME NUMBER"
   ]
  },
  {
   "cell_type": "code",
   "execution_count": 13,
   "id": "9e701f58",
   "metadata": {},
   "outputs": [
    {
     "name": "stdout",
     "output_type": "stream",
     "text": [
      "enter a number9\n",
      "not prime\n"
     ]
    }
   ],
   "source": [
    "n=int(input(\"enter a number\"))\n",
    "i=1\n",
    "count=0\n",
    "while(i<=n):\n",
    "    if n%i==0:\n",
    "        count=count+1\n",
    "    \n",
    "    i=i+1\n",
    "if (count==2):\n",
    "    \n",
    "        print(\"is prime\")\n",
    "else:\n",
    "        print(\"not prime\")\n"
   ]
  },
  {
   "cell_type": "code",
   "execution_count": 24,
   "id": "ef015d78",
   "metadata": {},
   "outputs": [],
   "source": [
    "#REVERSE"
   ]
  },
  {
   "cell_type": "code",
   "execution_count": 20,
   "id": "e6a097f7",
   "metadata": {},
   "outputs": [
    {
     "name": "stdout",
     "output_type": "stream",
     "text": [
      "enter a number123\n",
      "reverse of given number: 321\n"
     ]
    }
   ],
   "source": [
    "i=int(input(\"enter a number\"))\n",
    "reversed=0\n",
    "while(i>0):\n",
    "    reversed=(reversed*10)+i%10\n",
    "    i=i//10\n",
    "print(\"reverse of given number:\",reversed)"
   ]
  },
  {
   "cell_type": "code",
   "execution_count": 27,
   "id": "5bb5ea91",
   "metadata": {},
   "outputs": [
    {
     "name": "stdout",
     "output_type": "stream",
     "text": [
      "enter a number121\n",
      "yEs palindrane\n"
     ]
    }
   ],
   "source": [
    "#PALINDRENE\n",
    "i=int(input(\"enter a number\"))\n",
    "x=i\n",
    "reversed_i=0\n",
    "while(i>0):\n",
    "    reversed_i=(reversed_i*10)+i%10\n",
    "    i=i//10\n",
    "if x==reversed_i:\n",
    "    print(\"yEs palindrane\")\n",
    "else:\n",
    "    print(\"no palindrane\")"
   ]
  },
  {
   "cell_type": "code",
   "execution_count": 1,
   "id": "1818df2e",
   "metadata": {},
   "outputs": [
    {
     "name": "stdout",
     "output_type": "stream",
     "text": [
      "enter a number10\n",
      "0\n",
      "1\n",
      "1\n",
      "2\n",
      "3\n",
      "5\n",
      "8\n"
     ]
    }
   ],
   "source": [
    "#Fibonacci series\n",
    "n=int(input(\"enter a number\"))\n",
    "x=0\n",
    "y=1\n",
    "z=0\n",
    "while(z<=n):\n",
    "    print(z)\n",
    "    x=y\n",
    "    y=z\n",
    "    z=x+y"
   ]
  },
  {
   "cell_type": "code",
   "execution_count": 18,
   "id": "f415f611",
   "metadata": {},
   "outputs": [
    {
     "name": "stdout",
     "output_type": "stream",
     "text": [
      "enter a number4\n",
      "24\n"
     ]
    }
   ],
   "source": [
    "#Factorial series\n",
    "n=int(input(\"enter a number\"))\n",
    "def factorial(n):\n",
    "    if n==0:\n",
    "        return 1\n",
    "    else:\n",
    "        return n*factorial(n-1)\n",
    "        \n",
    "result=factorial(n)\n",
    "print(result)\n",
    "\n",
    "        \n",
    "        "
   ]
  },
  {
   "cell_type": "code",
   "execution_count": 19,
   "id": "2853c17f",
   "metadata": {},
   "outputs": [
    {
     "name": "stdout",
     "output_type": "stream",
     "text": [
      "enter a number2000\n",
      "leap year\n"
     ]
    }
   ],
   "source": [
    "#Leap year\n",
    "year=int(input(\"enter a number\"))\n",
    "def leap_year(year):\n",
    "    if year%4==0:\n",
    "        print(\"leap year\")\n",
    "    else:\n",
    "        (\"not leap year\")\n",
    "        \n",
    "leap_year(year)\n",
    "        \n",
    "    "
   ]
  },
  {
   "cell_type": "code",
   "execution_count": 2,
   "id": "5b0998fb",
   "metadata": {},
   "outputs": [
    {
     "name": "stdout",
     "output_type": "stream",
     "text": [
      "enter a number5\n",
      "*\n",
      "**\n",
      "***\n",
      "****\n",
      "*****\n"
     ]
    }
   ],
   "source": [
    "#pattern\n",
    "rows=int(input(\"enter a number\"))\n",
    "for i in range(rows):\n",
    "    for j in range(i+1):\n",
    "        print(\"*\",end=\"\")\n",
    "    print()    "
   ]
  },
  {
   "cell_type": "code",
   "execution_count": 7,
   "id": "ab96fcd9",
   "metadata": {},
   "outputs": [
    {
     "name": "stdout",
     "output_type": "stream",
     "text": [
      "enter a number5\n",
      "1\n",
      "22\n",
      "333\n",
      "4444\n",
      "55555\n"
     ]
    }
   ],
   "source": [
    "rows=int(input(\"enter a number\"))\n",
    "for i in range(rows):\n",
    "    for j in range(i+1):\n",
    "        print(i+1,end=\"\")\n",
    "    print()    "
   ]
  },
  {
   "cell_type": "code",
   "execution_count": null,
   "id": "31c9b243",
   "metadata": {},
   "outputs": [],
   "source": []
  }
 ],
 "metadata": {
  "kernelspec": {
   "display_name": "Python 3 (ipykernel)",
   "language": "python",
   "name": "python3"
  },
  "language_info": {
   "codemirror_mode": {
    "name": "ipython",
    "version": 3
   },
   "file_extension": ".py",
   "mimetype": "text/x-python",
   "name": "python",
   "nbconvert_exporter": "python",
   "pygments_lexer": "ipython3",
   "version": "3.11.5"
  }
 },
 "nbformat": 4,
 "nbformat_minor": 5
}
